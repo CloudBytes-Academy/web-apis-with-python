{
 "cells": [
  {
   "cell_type": "code",
   "execution_count": 5,
   "metadata": {},
   "outputs": [],
   "source": [
    "import requests"
   ]
  },
  {
   "cell_type": "code",
   "execution_count": 6,
   "metadata": {},
   "outputs": [
    {
     "data": {
      "text/plain": [
       "<bound method Response.raise_for_status of <Response [200]>>"
      ]
     },
     "execution_count": 6,
     "metadata": {},
     "output_type": "execute_result"
    }
   ],
   "source": [
    "response = requests.post(\"http://127.0.0.1:5000\")\n",
    "response.raise_for_status"
   ]
  },
  {
   "cell_type": "code",
   "execution_count": 7,
   "metadata": {},
   "outputs": [],
   "source": [
    "import json"
   ]
  },
  {
   "cell_type": "code",
   "execution_count": 8,
   "metadata": {},
   "outputs": [
    {
     "data": {
      "text/plain": [
       "{'filters_avaliable': ['blur',\n",
       "  'contour',\n",
       "  'detail',\n",
       "  'edge_enhance',\n",
       "  'edge_enhance_more',\n",
       "  'emboss',\n",
       "  'find_edges',\n",
       "  'sharpen',\n",
       "  'smooth',\n",
       "  'smooth_more'],\n",
       " 'usage': {'URL': '/<filters_available>/', 'http_methods': 'POST'}}"
      ]
     },
     "execution_count": 8,
     "metadata": {},
     "output_type": "execute_result"
    }
   ],
   "source": [
    "json.loads(response.content.decode(\"utf-8\"))"
   ]
  },
  {
   "cell_type": "code",
   "execution_count": 9,
   "metadata": {},
   "outputs": [
    {
     "data": {
      "text/plain": [
       "<bound method Response.raise_for_status of <Response [200]>>"
      ]
     },
     "execution_count": 9,
     "metadata": {},
     "output_type": "execute_result"
    }
   ],
   "source": [
    "file = {\"image\": open(\"sample.jpg\", \"rb\")}\n",
    "headers = {\"type\": \"multipart/image\"}\n",
    "\n",
    "URL = \"http://127.0.0.1:5000\"\n",
    "filter = \"contour\"\n",
    "\n",
    "response = requests.post(f\"{URL}/{filter}\", headers=headers, files=file)\n",
    "response.raise_for_status"
   ]
  },
  {
   "cell_type": "code",
   "execution_count": null,
   "metadata": {},
   "outputs": [],
   "source": [
    "from PIL import Image\n",
    "import io\n",
    "\n",
    "image = Image.open(io.BytesIO(response.content))\n",
    "image.save(\"response.jpg\", \"JPEG\")\n",
    "\n",
    "image"
   ]
  }
 ],
 "metadata": {
  "kernelspec": {
   "display_name": "Python 3.9.13 ('.dict_venv': venv)",
   "language": "python",
   "name": "python3"
  },
  "language_info": {
   "codemirror_mode": {
    "name": "ipython",
    "version": 3
   },
   "file_extension": ".py",
   "mimetype": "text/x-python",
   "name": "python",
   "nbconvert_exporter": "python",
   "pygments_lexer": "ipython3",
   "version": "3.9.13"
  },
  "orig_nbformat": 4,
  "vscode": {
   "interpreter": {
    "hash": "3f33547a32f3c861e997a861403a6850abfb02491a30e13b5f4dd41b0d79409e"
   }
  }
 },
 "nbformat": 4,
 "nbformat_minor": 2
}
